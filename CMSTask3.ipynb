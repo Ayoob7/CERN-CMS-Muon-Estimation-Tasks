{
  "nbformat": 4,
  "nbformat_minor": 0,
  "metadata": {
    "colab": {
      "name": "CMSTask3.ipynb",
      "provenance": [],
      "collapsed_sections": [],
      "machine_shape": "hm"
    },
    "kernelspec": {
      "name": "python3",
      "display_name": "Python 3"
    },
    "accelerator": "GPU"
  },
  "cells": [
    {
      "cell_type": "markdown",
      "metadata": {
        "id": "zwptRkSj6kRY",
        "colab_type": "text"
      },
      "source": [
        "# Download essential datasets and packages\n",
        "\n",
        "Setting up PyTorch Geometry"
      ]
    },
    {
      "cell_type": "code",
      "metadata": {
        "id": "qkPKkQeTfZIh",
        "colab_type": "code",
        "outputId": "5f3f3a43-5832-4196-9663-b10d789c3421",
        "colab": {
          "base_uri": "https://localhost:8080/",
          "height": 153
        }
      },
      "source": [
        "!pip install energyflow"
      ],
      "execution_count": 1,
      "outputs": [
        {
          "output_type": "stream",
          "text": [
            "Collecting energyflow\n",
            "\u001b[?25l  Downloading https://files.pythonhosted.org/packages/ae/45/acf4909dfffb6e5712f14f8ca4f3708fafea36b348854e0a5e38860bfda7/EnergyFlow-1.0.2-py2.py3-none-any.whl (688kB)\n",
            "\r\u001b[K     |▌                               | 10kB 17.0MB/s eta 0:00:01\r\u001b[K     |█                               | 20kB 2.2MB/s eta 0:00:01\r\u001b[K     |█▍                              | 30kB 3.2MB/s eta 0:00:01\r\u001b[K     |██                              | 40kB 2.1MB/s eta 0:00:01\r\u001b[K     |██▍                             | 51kB 2.6MB/s eta 0:00:01\r\u001b[K     |██▉                             | 61kB 3.1MB/s eta 0:00:01\r\u001b[K     |███▎                            | 71kB 3.6MB/s eta 0:00:01\r\u001b[K     |███▉                            | 81kB 4.0MB/s eta 0:00:01\r\u001b[K     |████▎                           | 92kB 4.5MB/s eta 0:00:01\r\u001b[K     |████▊                           | 102kB 3.5MB/s eta 0:00:01\r\u001b[K     |█████▎                          | 112kB 3.5MB/s eta 0:00:01\r\u001b[K     |█████▊                          | 122kB 3.5MB/s eta 0:00:01\r\u001b[K     |██████▏                         | 133kB 3.5MB/s eta 0:00:01\r\u001b[K     |██████▋                         | 143kB 3.5MB/s eta 0:00:01\r\u001b[K     |███████▏                        | 153kB 3.5MB/s eta 0:00:01\r\u001b[K     |███████▋                        | 163kB 3.5MB/s eta 0:00:01\r\u001b[K     |████████                        | 174kB 3.5MB/s eta 0:00:01\r\u001b[K     |████████▋                       | 184kB 3.5MB/s eta 0:00:01\r\u001b[K     |█████████                       | 194kB 3.5MB/s eta 0:00:01\r\u001b[K     |█████████▌                      | 204kB 3.5MB/s eta 0:00:01\r\u001b[K     |██████████                      | 215kB 3.5MB/s eta 0:00:01\r\u001b[K     |██████████▌                     | 225kB 3.5MB/s eta 0:00:01\r\u001b[K     |███████████                     | 235kB 3.5MB/s eta 0:00:01\r\u001b[K     |███████████▍                    | 245kB 3.5MB/s eta 0:00:01\r\u001b[K     |████████████                    | 256kB 3.5MB/s eta 0:00:01\r\u001b[K     |████████████▍                   | 266kB 3.5MB/s eta 0:00:01\r\u001b[K     |████████████▉                   | 276kB 3.5MB/s eta 0:00:01\r\u001b[K     |█████████████▎                  | 286kB 3.5MB/s eta 0:00:01\r\u001b[K     |█████████████▉                  | 296kB 3.5MB/s eta 0:00:01\r\u001b[K     |██████████████▎                 | 307kB 3.5MB/s eta 0:00:01\r\u001b[K     |██████████████▊                 | 317kB 3.5MB/s eta 0:00:01\r\u001b[K     |███████████████▎                | 327kB 3.5MB/s eta 0:00:01\r\u001b[K     |███████████████▊                | 337kB 3.5MB/s eta 0:00:01\r\u001b[K     |████████████████▏               | 348kB 3.5MB/s eta 0:00:01\r\u001b[K     |████████████████▋               | 358kB 3.5MB/s eta 0:00:01\r\u001b[K     |█████████████████▏              | 368kB 3.5MB/s eta 0:00:01\r\u001b[K     |█████████████████▋              | 378kB 3.5MB/s eta 0:00:01\r\u001b[K     |██████████████████              | 389kB 3.5MB/s eta 0:00:01\r\u001b[K     |██████████████████▋             | 399kB 3.5MB/s eta 0:00:01\r\u001b[K     |███████████████████             | 409kB 3.5MB/s eta 0:00:01\r\u001b[K     |███████████████████▌            | 419kB 3.5MB/s eta 0:00:01\r\u001b[K     |████████████████████            | 430kB 3.5MB/s eta 0:00:01\r\u001b[K     |████████████████████▌           | 440kB 3.5MB/s eta 0:00:01\r\u001b[K     |█████████████████████           | 450kB 3.5MB/s eta 0:00:01\r\u001b[K     |█████████████████████▍          | 460kB 3.5MB/s eta 0:00:01\r\u001b[K     |██████████████████████          | 471kB 3.5MB/s eta 0:00:01\r\u001b[K     |██████████████████████▍         | 481kB 3.5MB/s eta 0:00:01\r\u001b[K     |██████████████████████▉         | 491kB 3.5MB/s eta 0:00:01\r\u001b[K     |███████████████████████▎        | 501kB 3.5MB/s eta 0:00:01\r\u001b[K     |███████████████████████▉        | 512kB 3.5MB/s eta 0:00:01\r\u001b[K     |████████████████████████▎       | 522kB 3.5MB/s eta 0:00:01\r\u001b[K     |████████████████████████▊       | 532kB 3.5MB/s eta 0:00:01\r\u001b[K     |█████████████████████████▎      | 542kB 3.5MB/s eta 0:00:01\r\u001b[K     |█████████████████████████▊      | 552kB 3.5MB/s eta 0:00:01\r\u001b[K     |██████████████████████████▏     | 563kB 3.5MB/s eta 0:00:01\r\u001b[K     |██████████████████████████▋     | 573kB 3.5MB/s eta 0:00:01\r\u001b[K     |███████████████████████████▏    | 583kB 3.5MB/s eta 0:00:01\r\u001b[K     |███████████████████████████▋    | 593kB 3.5MB/s eta 0:00:01\r\u001b[K     |████████████████████████████    | 604kB 3.5MB/s eta 0:00:01\r\u001b[K     |████████████████████████████▋   | 614kB 3.5MB/s eta 0:00:01\r\u001b[K     |█████████████████████████████   | 624kB 3.5MB/s eta 0:00:01\r\u001b[K     |█████████████████████████████▌  | 634kB 3.5MB/s eta 0:00:01\r\u001b[K     |██████████████████████████████  | 645kB 3.5MB/s eta 0:00:01\r\u001b[K     |██████████████████████████████▌ | 655kB 3.5MB/s eta 0:00:01\r\u001b[K     |███████████████████████████████ | 665kB 3.5MB/s eta 0:00:01\r\u001b[K     |███████████████████████████████▍| 675kB 3.5MB/s eta 0:00:01\r\u001b[K     |████████████████████████████████| 686kB 3.5MB/s eta 0:00:01\r\u001b[K     |████████████████████████████████| 696kB 3.5MB/s \n",
            "\u001b[?25hRequirement already satisfied: h5py>=2.9.0 in /usr/local/lib/python3.6/dist-packages (from energyflow) (2.10.0)\n",
            "Requirement already satisfied: numpy>=1.14.0 in /usr/local/lib/python3.6/dist-packages (from energyflow) (1.18.2)\n",
            "Requirement already satisfied: six>=1.10.0 in /usr/local/lib/python3.6/dist-packages (from energyflow) (1.12.0)\n",
            "Installing collected packages: energyflow\n",
            "Successfully installed energyflow-1.0.2\n"
          ],
          "name": "stdout"
        }
      ]
    },
    {
      "cell_type": "code",
      "metadata": {
        "id": "1RkfJqPwfiKf",
        "colab_type": "code",
        "outputId": "0a533f96-e8ec-4557-976c-9523c251a483",
        "colab": {
          "base_uri": "https://localhost:8080/",
          "height": 51
        }
      },
      "source": [
        "! python -c \"import torch; print(torch.__version__)\"\n",
        "! python -c \"import torch; print(torch.cuda.is_available())\""
      ],
      "execution_count": 2,
      "outputs": [
        {
          "output_type": "stream",
          "text": [
            "1.4.0\n",
            "True\n"
          ],
          "name": "stdout"
        }
      ]
    },
    {
      "cell_type": "code",
      "metadata": {
        "id": "BdJ_SeLA_dUS",
        "colab_type": "code",
        "colab": {}
      },
      "source": [
        "! PATH=/usr/local/cuda/bin:$PATH\n",
        "! CPATH=/usr/local/cuda/include:$CPATH    \n",
        "! LD_LIBRARY_PATH=/usr/local/cuda/lib64:$LD_LIBRARY_PATH\n",
        "! DYLD_LIBRARY_PATH=/usr/local/cuda/lib:$DYLD_LIBRARY_PATH"
      ],
      "execution_count": 0,
      "outputs": []
    },
    {
      "cell_type": "code",
      "metadata": {
        "id": "NzR0fAyP_gRP",
        "colab_type": "code",
        "outputId": "cf4d76e1-ee56-4256-daf4-b19908b628de",
        "colab": {
          "base_uri": "https://localhost:8080/",
          "height": 102
        }
      },
      "source": [
        "! nvcc --version\n",
        "! python -c \"import torch; print(torch.version.cuda)\""
      ],
      "execution_count": 4,
      "outputs": [
        {
          "output_type": "stream",
          "text": [
            "nvcc: NVIDIA (R) Cuda compiler driver\n",
            "Copyright (c) 2005-2018 NVIDIA Corporation\n",
            "Built on Sat_Aug_25_21:08:01_CDT_2018\n",
            "Cuda compilation tools, release 10.0, V10.0.130\n",
            "10.1\n"
          ],
          "name": "stdout"
        }
      ]
    },
    {
      "cell_type": "markdown",
      "metadata": {
        "id": "iflP59g7GiOM",
        "colab_type": "text"
      },
      "source": [
        "This will take sometime ~ around 10 - 15 mins"
      ]
    },
    {
      "cell_type": "code",
      "metadata": {
        "id": "J56KAfTo_lX_",
        "colab_type": "code",
        "outputId": "38b71df9-0a62-4083-e97f-3b5463e00e38",
        "colab": {
          "base_uri": "https://localhost:8080/",
          "height": 1000
        }
      },
      "source": [
        "! pip install --no-cache-dir torch-scatter==2.0.2\n",
        "! pip install --no-cache-dir torch-sparse==0.4.4\n",
        "! pip install --no-cache-dir torch-cluster==1.4.5\n",
        "! pip install torch-geometric==1.4.1\n",
        "#! pip install torch-spline-conv==10.1 -f https://pytorch-geometric.com/whl/torch-1.4.0.html"
      ],
      "execution_count": 5,
      "outputs": [
        {
          "output_type": "stream",
          "text": [
            "Collecting torch-scatter==2.0.2\n",
            "  Downloading https://files.pythonhosted.org/packages/28/f7/fa4e61587169924203a32416f7835939fdd79994eaa429b4f8ef8f0e07e2/torch_scatter-2.0.2.tar.gz\n",
            "Building wheels for collected packages: torch-scatter\n",
            "  Building wheel for torch-scatter (setup.py) ... \u001b[?25l\u001b[?25hdone\n",
            "  Created wheel for torch-scatter: filename=torch_scatter-2.0.2-cp36-cp36m-linux_x86_64.whl size=7260713 sha256=7615dc05d750020e907f6d4ca5d7d09ae79704b14cd2349a9c8382a28149a0ce\n",
            "  Stored in directory: /tmp/pip-ephem-wheel-cache-sh3bw2sy/wheels/21/5b/b3/0299be203ab2eb6b5d74c85a968111ec09be6a30f65c9a3a68\n",
            "Successfully built torch-scatter\n",
            "Installing collected packages: torch-scatter\n",
            "Successfully installed torch-scatter-2.0.2\n",
            "Collecting torch-sparse==0.4.4\n",
            "  Downloading https://files.pythonhosted.org/packages/0e/bf/6242893c898621e7e4756e1ad298e903df6dfae208aec1c32adf8cfd1f7f/torch_sparse-0.4.4.tar.gz\n",
            "Requirement already satisfied: scipy in /usr/local/lib/python3.6/dist-packages (from torch-sparse==0.4.4) (1.4.1)\n",
            "Requirement already satisfied: numpy>=1.13.3 in /usr/local/lib/python3.6/dist-packages (from scipy->torch-sparse==0.4.4) (1.18.2)\n",
            "Building wheels for collected packages: torch-sparse\n",
            "  Building wheel for torch-sparse (setup.py) ... \u001b[?25l\u001b[?25hdone\n",
            "  Created wheel for torch-sparse: filename=torch_sparse-0.4.4-cp36-cp36m-linux_x86_64.whl size=4955217 sha256=6e9f75cc4fc4a13005af5776a0c0159db738db568dd2c41f9fd3fa7674ebc93a\n",
            "  Stored in directory: /tmp/pip-ephem-wheel-cache-9f8n26ko/wheels/8a/1a/6f/88952b83ebba6b2742909fcd6e320e3a99fc7d2a2428391f8c\n",
            "Successfully built torch-sparse\n",
            "Installing collected packages: torch-sparse\n",
            "Successfully installed torch-sparse-0.4.4\n",
            "Collecting torch-cluster==1.4.5\n",
            "  Downloading https://files.pythonhosted.org/packages/c3/70/1d827d6fd1e03bb5ae84852dd0070c6574105c37e7b935284f6e990932db/torch_cluster-1.4.5.tar.gz\n",
            "Requirement already satisfied: scipy in /usr/local/lib/python3.6/dist-packages (from torch-cluster==1.4.5) (1.4.1)\n",
            "Requirement already satisfied: numpy>=1.13.3 in /usr/local/lib/python3.6/dist-packages (from scipy->torch-cluster==1.4.5) (1.18.2)\n",
            "Building wheels for collected packages: torch-cluster\n",
            "  Building wheel for torch-cluster (setup.py) ... \u001b[?25l\u001b[?25hdone\n",
            "  Created wheel for torch-cluster: filename=torch_cluster-1.4.5-cp36-cp36m-linux_x86_64.whl size=20359328 sha256=94b5842111130c20cd532d08a14190ff5a8f0f12de7c17448e38156bb256f0b9\n",
            "  Stored in directory: /tmp/pip-ephem-wheel-cache-usgvvhxx/wheels/0a/26/7e/a6d6a80eae5ca39b92bc77773f36cf433d5085de18014382b1\n",
            "Successfully built torch-cluster\n",
            "Installing collected packages: torch-cluster\n",
            "Successfully installed torch-cluster-1.4.5\n",
            "Collecting torch-geometric==1.4.1\n",
            "\u001b[?25l  Downloading https://files.pythonhosted.org/packages/bf/41/55bb58f602b752fa5b4c5334a67acedb9982e778bef97b91bbe71eba9762/torch_geometric-1.4.1.tar.gz (138kB)\n",
            "\u001b[K     |████████████████████████████████| 143kB 3.5MB/s \n",
            "\u001b[?25hRequirement already satisfied: torch in /usr/local/lib/python3.6/dist-packages (from torch-geometric==1.4.1) (1.4.0)\n",
            "Requirement already satisfied: numpy in /usr/local/lib/python3.6/dist-packages (from torch-geometric==1.4.1) (1.18.2)\n",
            "Requirement already satisfied: scipy in /usr/local/lib/python3.6/dist-packages (from torch-geometric==1.4.1) (1.4.1)\n",
            "Requirement already satisfied: networkx in /usr/local/lib/python3.6/dist-packages (from torch-geometric==1.4.1) (2.4)\n",
            "Requirement already satisfied: scikit-learn in /usr/local/lib/python3.6/dist-packages (from torch-geometric==1.4.1) (0.22.2.post1)\n",
            "Requirement already satisfied: scikit-image in /usr/local/lib/python3.6/dist-packages (from torch-geometric==1.4.1) (0.16.2)\n",
            "Requirement already satisfied: numba in /usr/local/lib/python3.6/dist-packages (from torch-geometric==1.4.1) (0.47.0)\n",
            "Requirement already satisfied: requests in /usr/local/lib/python3.6/dist-packages (from torch-geometric==1.4.1) (2.21.0)\n",
            "Collecting plyfile\n",
            "  Downloading https://files.pythonhosted.org/packages/93/c8/cf47848cd4d661850e4a8e7f0fc4f7298515e06d0da7255ed08e5312d4aa/plyfile-0.7.2-py3-none-any.whl\n",
            "Requirement already satisfied: pandas in /usr/local/lib/python3.6/dist-packages (from torch-geometric==1.4.1) (0.25.3)\n",
            "Collecting rdflib\n",
            "\u001b[?25l  Downloading https://files.pythonhosted.org/packages/3c/fe/630bacb652680f6d481b9febbb3e2c3869194a1a5fc3401a4a41195a2f8f/rdflib-4.2.2-py3-none-any.whl (344kB)\n",
            "\u001b[K     |████████████████████████████████| 348kB 42.6MB/s \n",
            "\u001b[?25hRequirement already satisfied: h5py in /usr/local/lib/python3.6/dist-packages (from torch-geometric==1.4.1) (2.10.0)\n",
            "Requirement already satisfied: googledrivedownloader in /usr/local/lib/python3.6/dist-packages (from torch-geometric==1.4.1) (0.4)\n",
            "Requirement already satisfied: decorator>=4.3.0 in /usr/local/lib/python3.6/dist-packages (from networkx->torch-geometric==1.4.1) (4.4.2)\n",
            "Requirement already satisfied: joblib>=0.11 in /usr/local/lib/python3.6/dist-packages (from scikit-learn->torch-geometric==1.4.1) (0.14.1)\n",
            "Requirement already satisfied: imageio>=2.3.0 in /usr/local/lib/python3.6/dist-packages (from scikit-image->torch-geometric==1.4.1) (2.4.1)\n",
            "Requirement already satisfied: pillow>=4.3.0 in /usr/local/lib/python3.6/dist-packages (from scikit-image->torch-geometric==1.4.1) (7.0.0)\n",
            "Requirement already satisfied: PyWavelets>=0.4.0 in /usr/local/lib/python3.6/dist-packages (from scikit-image->torch-geometric==1.4.1) (1.1.1)\n",
            "Requirement already satisfied: matplotlib!=3.0.0,>=2.0.0 in /usr/local/lib/python3.6/dist-packages (from scikit-image->torch-geometric==1.4.1) (3.2.1)\n",
            "Requirement already satisfied: llvmlite>=0.31.0dev0 in /usr/local/lib/python3.6/dist-packages (from numba->torch-geometric==1.4.1) (0.31.0)\n",
            "Requirement already satisfied: setuptools in /usr/local/lib/python3.6/dist-packages (from numba->torch-geometric==1.4.1) (46.0.0)\n",
            "Requirement already satisfied: chardet<3.1.0,>=3.0.2 in /usr/local/lib/python3.6/dist-packages (from requests->torch-geometric==1.4.1) (3.0.4)\n",
            "Requirement already satisfied: idna<2.9,>=2.5 in /usr/local/lib/python3.6/dist-packages (from requests->torch-geometric==1.4.1) (2.8)\n",
            "Requirement already satisfied: certifi>=2017.4.17 in /usr/local/lib/python3.6/dist-packages (from requests->torch-geometric==1.4.1) (2019.11.28)\n",
            "Requirement already satisfied: urllib3<1.25,>=1.21.1 in /usr/local/lib/python3.6/dist-packages (from requests->torch-geometric==1.4.1) (1.24.3)\n",
            "Requirement already satisfied: python-dateutil>=2.6.1 in /usr/local/lib/python3.6/dist-packages (from pandas->torch-geometric==1.4.1) (2.8.1)\n",
            "Requirement already satisfied: pytz>=2017.2 in /usr/local/lib/python3.6/dist-packages (from pandas->torch-geometric==1.4.1) (2018.9)\n",
            "Requirement already satisfied: pyparsing in /usr/local/lib/python3.6/dist-packages (from rdflib->torch-geometric==1.4.1) (2.4.6)\n",
            "Collecting isodate\n",
            "\u001b[?25l  Downloading https://files.pythonhosted.org/packages/9b/9f/b36f7774ff5ea8e428fdcfc4bb332c39ee5b9362ddd3d40d9516a55221b2/isodate-0.6.0-py2.py3-none-any.whl (45kB)\n",
            "\u001b[K     |████████████████████████████████| 51kB 7.3MB/s \n",
            "\u001b[?25hRequirement already satisfied: six in /usr/local/lib/python3.6/dist-packages (from h5py->torch-geometric==1.4.1) (1.12.0)\n",
            "Requirement already satisfied: kiwisolver>=1.0.1 in /usr/local/lib/python3.6/dist-packages (from matplotlib!=3.0.0,>=2.0.0->scikit-image->torch-geometric==1.4.1) (1.1.0)\n",
            "Requirement already satisfied: cycler>=0.10 in /usr/local/lib/python3.6/dist-packages (from matplotlib!=3.0.0,>=2.0.0->scikit-image->torch-geometric==1.4.1) (0.10.0)\n",
            "Building wheels for collected packages: torch-geometric\n",
            "  Building wheel for torch-geometric (setup.py) ... \u001b[?25l\u001b[?25hdone\n",
            "  Created wheel for torch-geometric: filename=torch_geometric-1.4.1-cp36-none-any.whl size=222272 sha256=71b9a4406f10d24d321be05d09e453104cce5fd9ccfbbf50168517944409890d\n",
            "  Stored in directory: /root/.cache/pip/wheels/5c/c8/4f/d25495ab2fa4422881f41048e27d0feb58a86e06d19794c63f\n",
            "Successfully built torch-geometric\n",
            "Installing collected packages: plyfile, isodate, rdflib, torch-geometric\n",
            "Successfully installed isodate-0.6.0 plyfile-0.7.2 rdflib-4.2.2 torch-geometric-1.4.1\n"
          ],
          "name": "stdout"
        }
      ]
    },
    {
      "cell_type": "markdown",
      "metadata": {
        "id": "n_Mtn_j7XR3b",
        "colab_type": "text"
      },
      "source": [
        "This will Install RDKit. Takes 2 - 3 minutes"
      ]
    },
    {
      "cell_type": "code",
      "metadata": {
        "id": "N2_7D_3VcM6D",
        "colab_type": "code",
        "outputId": "b525d21f-21df-402d-dcd5-a02ae42ad4f5",
        "colab": {
          "base_uri": "https://localhost:8080/",
          "height": 1000
        }
      },
      "source": [
        "# !wget -c https://repo.continuum.io/miniconda/Miniconda3-latest-Linux-x86_64.sh\n",
        "# !chmod +x Miniconda3-latest-Linux-x86_64.sh\n",
        "# !time bash ./Miniconda3-latest-Linux-x86_64.sh -b -f -p /usr/local\n",
        "# !time conda install -q -y -c conda-forge rdkit"
      ],
      "execution_count": 0,
      "outputs": [
        {
          "output_type": "stream",
          "text": [
            "--2020-03-30 07:57:31--  https://repo.continuum.io/miniconda/Miniconda3-latest-Linux-x86_64.sh\n",
            "Resolving repo.continuum.io (repo.continuum.io)... 104.18.200.79, 104.18.201.79, 2606:4700::6812:c84f, ...\n",
            "Connecting to repo.continuum.io (repo.continuum.io)|104.18.200.79|:443... connected.\n",
            "HTTP request sent, awaiting response... 416 Requested Range Not Satisfiable\n",
            "\n",
            "    The file is already fully retrieved; nothing to do.\n",
            "\n",
            "PREFIX=/usr/local\n",
            "Unpacking payload ...\n",
            "Collecting package metadata (current_repodata.json): - \b\b\\ \b\bdone\n",
            "Solving environment: / \b\b- \b\b\\ \b\b| \b\b/ \b\b- \b\b\\ \b\b| \b\b/ \b\bdone\n",
            "\n",
            "## Package Plan ##\n",
            "\n",
            "  environment location: /usr/local\n",
            "\n",
            "  added / updated specs:\n",
            "    - _libgcc_mutex==0.1=main\n",
            "    - asn1crypto==1.3.0=py37_0\n",
            "    - ca-certificates==2020.1.1=0\n",
            "    - certifi==2019.11.28=py37_0\n",
            "    - cffi==1.14.0=py37h2e261b9_0\n",
            "    - chardet==3.0.4=py37_1003\n",
            "    - conda-package-handling==1.6.0=py37h7b6447c_0\n",
            "    - conda==4.8.2=py37_0\n",
            "    - cryptography==2.8=py37h1ba5d50_0\n",
            "    - idna==2.8=py37_0\n",
            "    - ld_impl_linux-64==2.33.1=h53a641e_7\n",
            "    - libedit==3.1.20181209=hc058e9b_0\n",
            "    - libffi==3.2.1=hd88cf55_4\n",
            "    - libgcc-ng==9.1.0=hdf63c60_0\n",
            "    - libstdcxx-ng==9.1.0=hdf63c60_0\n",
            "    - ncurses==6.2=he6710b0_0\n",
            "    - openssl==1.1.1d=h7b6447c_4\n",
            "    - pip==20.0.2=py37_1\n",
            "    - pycosat==0.6.3=py37h7b6447c_0\n",
            "    - pycparser==2.19=py37_0\n",
            "    - pyopenssl==19.1.0=py37_0\n",
            "    - pysocks==1.7.1=py37_0\n",
            "    - python==3.7.6=h0371630_2\n",
            "    - readline==7.0=h7b6447c_5\n",
            "    - requests==2.22.0=py37_1\n",
            "    - ruamel_yaml==0.15.87=py37h7b6447c_0\n",
            "    - setuptools==45.2.0=py37_0\n",
            "    - six==1.14.0=py37_0\n",
            "    - sqlite==3.31.1=h7b6447c_0\n",
            "    - tk==8.6.8=hbc83047_0\n",
            "    - tqdm==4.42.1=py_0\n",
            "    - urllib3==1.25.8=py37_0\n",
            "    - wheel==0.34.2=py37_0\n",
            "    - xz==5.2.4=h14c3975_4\n",
            "    - yaml==0.1.7=had09818_2\n",
            "    - zlib==1.2.11=h7b6447c_3\n",
            "\n",
            "\n",
            "The following packages will be UPDATED:\n",
            "\n",
            "  ca-certificates    conda-forge::ca-certificates-2019.11.~ --> pkgs/main::ca-certificates-2020.1.1-0\n",
            "\n",
            "The following packages will be SUPERSEDED by a higher-priority channel:\n",
            "\n",
            "  certifi            conda-forge::certifi-2019.11.28-py37h~ --> pkgs/main::certifi-2019.11.28-py37_0\n",
            "  conda              conda-forge::conda-4.8.3-py37hc8dfbb8~ --> pkgs/main::conda-4.8.2-py37_0\n",
            "  openssl            conda-forge::openssl-1.1.1e-h516909a_0 --> pkgs/main::openssl-1.1.1d-h7b6447c_4\n",
            "\n",
            "\n",
            "Preparing transaction: \\ \b\bdone\n",
            "Executing transaction: / \b\b- \b\bdone\n",
            "installation finished.\n",
            "WARNING:\n",
            "    You currently have a PYTHONPATH environment variable set. This may cause\n",
            "    unexpected behavior when running the Python interpreter in Miniconda3.\n",
            "    For best results, please verify that your PYTHONPATH only points to\n",
            "    directories of packages that are compatible with the Python interpreter\n",
            "    in Miniconda3: /usr/local\n",
            "\n",
            "real\t0m22.752s\n",
            "user\t0m29.465s\n",
            "sys\t0m4.655s\n",
            "Collecting package metadata (current_repodata.json): ...working... done\n",
            "Solving environment: ...working... done\n",
            "\n",
            "## Package Plan ##\n",
            "\n",
            "  environment location: /usr/local\n",
            "\n",
            "  added / updated specs:\n",
            "    - rdkit\n",
            "\n",
            "\n",
            "The following packages will be UPDATED:\n",
            "\n",
            "  certifi              pkgs/main::certifi-2019.11.28-py37_0 --> conda-forge::certifi-2019.11.28-py37hc8dfbb8_1\n",
            "  conda                       pkgs/main::conda-4.8.2-py37_0 --> conda-forge::conda-4.8.3-py37hc8dfbb8_1\n",
            "  openssl              pkgs/main::openssl-1.1.1d-h7b6447c_4 --> conda-forge::openssl-1.1.1e-h516909a_0\n",
            "\n",
            "The following packages will be SUPERSEDED by a higher-priority channel:\n",
            "\n",
            "  ca-certificates     pkgs/main::ca-certificates-2020.1.1-0 --> conda-forge::ca-certificates-2019.11.28-hecc5488_0\n",
            "\n",
            "\n",
            "Preparing transaction: ...working... done\n",
            "Verifying transaction: ...working... done\n",
            "Executing transaction: ...working... done\n",
            "\n",
            "real\t0m6.614s\n",
            "user\t0m5.968s\n",
            "sys\t0m0.788s\n"
          ],
          "name": "stdout"
        }
      ]
    },
    {
      "cell_type": "code",
      "metadata": {
        "id": "IqZuvU17c1E4",
        "colab_type": "code",
        "colab": {}
      },
      "source": [
        "# import sys\n",
        "# sys.path.append('/usr/local/lib/python3.7/site-packages/')"
      ],
      "execution_count": 0,
      "outputs": []
    },
    {
      "cell_type": "markdown",
      "metadata": {
        "id": "VMCG9IzV7ZGQ",
        "colab_type": "text"
      },
      "source": [
        "# Load data"
      ]
    },
    {
      "cell_type": "code",
      "metadata": {
        "id": "iUTJgTKsfdsU",
        "colab_type": "code",
        "colab": {}
      },
      "source": [
        "import energyflow\n",
        "data = energyflow.qg_jets.load(num_data=100000, generator='pythia', pad=True, with_bc=False, cache_dir='~/.energyflow')"
      ],
      "execution_count": 0,
      "outputs": []
    },
    {
      "cell_type": "markdown",
      "metadata": {
        "id": "jKRd7YelCtIE",
        "colab_type": "text"
      },
      "source": [
        "\n",
        "X of shape (100000,M,4) where 100,000 is the number of jets per file,  M is the max multiplicity of the jets and 4 is the number of features per point cloud (particle). The four features are the \n",
        "\n",
        "1. particle’s pt\n",
        "2. rapidity azimuthal \n",
        "3. angle \n",
        "4. pdgid\n",
        "\n",
        "M is multiplicity\n",
        "\n",
        "Jet multiplicity is the number of jets.\n",
        "\n",
        "The number of jets can be very interesting depending on the kind of events you want to study. Sometimes the jet multiplicity is part of the event selection"
      ]
    },
    {
      "cell_type": "code",
      "metadata": {
        "id": "KMDV0XqwfoVL",
        "colab_type": "code",
        "colab": {}
      },
      "source": [
        "X = data[0]\n",
        "y = data[1]\n",
        "y = y.astype(int)"
      ],
      "execution_count": 0,
      "outputs": []
    },
    {
      "cell_type": "code",
      "metadata": {
        "id": "_Y_lFEzYJQYs",
        "colab_type": "code",
        "outputId": "6ce9f08f-16d8-4111-b01c-8075893b2d2d",
        "colab": {
          "base_uri": "https://localhost:8080/",
          "height": 34
        }
      },
      "source": [
        "X.shape,y.shape"
      ],
      "execution_count": 0,
      "outputs": [
        {
          "output_type": "execute_result",
          "data": {
            "text/plain": [
              "((100000, 139, 4), (100000,))"
            ]
          },
          "metadata": {
            "tags": []
          },
          "execution_count": 39
        }
      ]
    },
    {
      "cell_type": "markdown",
      "metadata": {
        "id": "w-UlmndPbl7Q",
        "colab_type": "text"
      },
      "source": [
        "# Dataset Creation"
      ]
    },
    {
      "cell_type": "code",
      "metadata": {
        "id": "XhRK6_6K5-Ms",
        "colab_type": "code",
        "colab": {}
      },
      "source": [
        "import os\n",
        "import torch\n",
        "from torch.utils import data\n",
        "from torch_geometric.data import DataLoader\n",
        "from torch_geometric.data import InMemoryDataset, download_url, extract_zip\n",
        "\n",
        "# Check Device configuration\n",
        "device = torch.device('cuda' if torch.cuda.is_available() else 'cpu')\n",
        "\n",
        "class QuarkGluonDataset(InMemoryDataset):\n",
        "    url = 'https://www.dropbox.com/s/fclsl7pukcpobsb/QG_jets.npz'\n",
        "\n",
        "    categories = {\n",
        "        '0': '50000',\n",
        "        '1': '50000',\n",
        "    }\n",
        "\n",
        "    def __init__(self,\n",
        "                 root,\n",
        "                 category,\n",
        "                 train=True,\n",
        "                 transform=None,\n",
        "                 pre_transform=None,\n",
        "                 pre_filter=None):\n",
        "        #assert category in self.categories.keys()\n",
        "        self.category = category\n",
        "        super(QuarkGluonDataset, self).__init__(root, transform, pre_transform,\n",
        "                                       pre_filter)\n",
        "        path = self.processed_paths[0] if train else self.processed_paths[1]\n",
        "        self.data, self.slices = torch.load(path)\n",
        "\n",
        "    @property\n",
        "    def raw_file_names(self):\n",
        "        return [\n",
        "            'train_data', 'train_label', 'test_data','test_label'\n",
        "        ]\n",
        "\n",
        "    @property\n",
        "    def processed_file_names(self):\n",
        "        names = ['training.pt', 'test.pt']\n",
        "        return [osp.join(self.category, name) for name in names]\n",
        "\n",
        "    def download(self):\n",
        "        for name in self.raw_file_names:\n",
        "            url = '{}/{}.zip'.format(self.url, name)\n",
        "            path = download_url(url, self.raw_dir)\n",
        "            extract_zip(path, self.raw_dir)\n",
        "            os.unlink(path)\n",
        "\n",
        "    def process(self):\n",
        "        idx = self.categories[self.category]\n",
        "        paths = [osp.join(path, idx) for path in self.raw_paths]\n",
        "        datasets = []\n",
        "        for path in zip(paths[::2], paths[1::2]):\n",
        "            pos_paths = sorted(glob.glob(osp.join(path[0], '*.pts')))\n",
        "            y_paths = sorted(glob.glob(osp.join(path[1], '*.seg')))\n",
        "            data_list = []\n",
        "            for path in zip(pos_paths, y_paths):\n",
        "                pos = read_txt_array(path[0])\n",
        "                y = read_txt_array(path[1], dtype=torch.long)\n",
        "                data = Data(y=y, pos=pos)\n",
        "                if self.pre_filter is not None and not self.pre_filter(data):\n",
        "                    continue\n",
        "                if self.pre_transform is not None:\n",
        "                    data = self.pre_transform(data)\n",
        "                data_list.append(data)\n",
        "            datasets.append(data_list)\n",
        "\n",
        "        makedirs(osp.join(self.processed_dir, self.category))\n",
        "        train_data, train_slices = self.collate(datasets[0] + datasets[1])\n",
        "        test_data, test_slices = self.collate(datasets[2])\n",
        "\n",
        "        _, train_data.y = train_data.y.unique(return_inverse=True)\n",
        "        _, test_data.y = test_data.y.unique(return_inverse=True)\n",
        "\n",
        "        torch.save((train_data, train_slices), self.processed_paths[0])\n",
        "        torch.save((test_data, test_slices), self.processed_paths[1])\n",
        "\n",
        "    def __repr__(self):\n",
        "        return '{}({}, category={})'.format(self.__class__.__name__, len(self),\n",
        "                                            self.category)\n"
      ],
      "execution_count": 0,
      "outputs": []
    },
    {
      "cell_type": "markdown",
      "metadata": {
        "id": "N5rGQsVQhHI5",
        "colab_type": "text"
      },
      "source": [
        "# Graph Convolutional Neural Layer"
      ]
    },
    {
      "cell_type": "code",
      "metadata": {
        "id": "G7twH1nD4YdR",
        "colab_type": "code",
        "colab": {}
      },
      "source": [
        "import torch\n",
        "from torch_geometric.nn import MessagePassing\n",
        "from torch_geometric.utils import add_self_loops, degree\n",
        "\n",
        "class GCNConv(MessagePassing):\n",
        "    def __init__(self, in_channels, out_channels):\n",
        "        super(GCNConv, self).__init__(aggr='add')  # \"Add\" aggregation.\n",
        "        self.lin = torch.nn.Linear(in_channels, out_channels)\n",
        "\n",
        "    def forward(self, x, edge_index):\n",
        "        # x has shape [N, in_channels]\n",
        "        # edge_index has shape [2, E]\n",
        "\n",
        "        # Step 1: Add self-loops to the adjacency matrix.\n",
        "        edge_index, _ = add_self_loops(edge_index, num_nodes=x.size(0))\n",
        "\n",
        "        # Step 2: Linearly transform node feature matrix.\n",
        "        x = self.lin(x)\n",
        "\n",
        "        # Step 3: Compute normalization\n",
        "        row, col = edge_index\n",
        "        deg = degree(row, x.size(0), dtype=x.dtype)\n",
        "        deg_inv_sqrt = deg.pow(-0.5)\n",
        "        norm = deg_inv_sqrt[row] * deg_inv_sqrt[col]\n",
        "\n",
        "        # Step 4-6: Start propagating messages.\n",
        "        return self.propagate(edge_index, size=(x.size(0), x.size(0)), x=x,\n",
        "                              norm=norm)\n",
        "\n",
        "    def message(self, x_j, norm):\n",
        "        # x_j has shape [E, out_channels]\n",
        "\n",
        "        # Step 4: Normalize node features.\n",
        "        return norm.view(-1, 1) * x_j\n",
        "\n",
        "    def update(self, aggr_out):\n",
        "        # aggr_out has shape [N, out_channels]\n",
        "\n",
        "        # Step 6: Return new node embeddings.\n",
        "        return aggr_out\n"
      ],
      "execution_count": 0,
      "outputs": []
    },
    {
      "cell_type": "code",
      "metadata": {
        "id": "Gt71E3p6RYBo",
        "colab_type": "code",
        "colab": {}
      },
      "source": [
        "edge_index = torch.tensor([[0, 1, 1, 2],\n",
        "                           [1, 0, 2, 1]], dtype=torch.long)\n",
        "X = torch.tensor([[-1], [0], [1]], dtype=torch.float)\n",
        "conv = GCNConv(1, 32) # x x shape and 16\n",
        "x = conv(X, edge_index)"
      ],
      "execution_count": 0,
      "outputs": []
    },
    {
      "cell_type": "markdown",
      "metadata": {
        "id": "k_ljDlajcZXJ",
        "colab_type": "text"
      },
      "source": [
        "# Edge Convolutional Layer"
      ]
    },
    {
      "cell_type": "code",
      "metadata": {
        "id": "wEjQrlznS_4Z",
        "colab_type": "code",
        "colab": {}
      },
      "source": [
        "from torch.nn import Sequential as Seq, Linear, ReLU\n",
        "from torch_geometric.nn import MessagePassing\n",
        "\n",
        "class EdgeConv(MessagePassing):\n",
        "    def __init__(self, in_channels, out_channels):\n",
        "        super(EdgeConv, self).__init__(aggr='max') #  \"Max\" aggregation.\n",
        "        self.mlp = Seq(Linear(2 * in_channels, out_channels),\n",
        "                       ReLU(),\n",
        "                       Linear(out_channels, out_channels))\n",
        "\n",
        "    def forward(self, x, edge_index):\n",
        "        # x has shape [N, in_channels]\n",
        "        # edge_index has shape [2, E]\n",
        "\n",
        "        return self.propagate(edge_index, size=(x.size(0), x.size(0)), x=x)\n",
        "\n",
        "    def message(self, x_i, x_j):\n",
        "        # x_i has shape [E, in_channels]\n",
        "        # x_j has shape [E, in_channels]\n",
        "\n",
        "        tmp = torch.cat([x_i, x_j - x_i], dim=1)  # tmp has shape [E, 2 * in_channels]\n",
        "        return self.mlp(tmp)\n",
        "\n",
        "    def update(self, aggr_out):\n",
        "        # aggr_out has shape [N, out_channels]\n",
        "\n",
        "        return aggr_out"
      ],
      "execution_count": 0,
      "outputs": []
    },
    {
      "cell_type": "markdown",
      "metadata": {
        "id": "o2sWAibRcgQD",
        "colab_type": "text"
      },
      "source": [
        "Dynamic Edge Convolution"
      ]
    },
    {
      "cell_type": "code",
      "metadata": {
        "id": "evliyfDbTX3d",
        "colab_type": "code",
        "colab": {}
      },
      "source": [
        "from torch_geometric.nn import knn_graph\n",
        "\n",
        "class DynamicEdgeConv(EdgeConv):\n",
        "    def __init__(self, in_channels, out_channels, k=6):\n",
        "        super(DynamicEdgeConv, self).__init__(in_channels, out_channels)\n",
        "        self.k = k\n",
        "\n",
        "    def forward(self, x, batch=None):\n",
        "        edge_index = knn_graph(x, self.k, batch, loop=False, flow=self.flow)\n",
        "        return super(DynamicEdgeConv, self).forward(x, edge_index)"
      ],
      "execution_count": 0,
      "outputs": []
    },
    {
      "cell_type": "code",
      "metadata": {
        "id": "hOfIlg80Tb0A",
        "colab_type": "code",
        "outputId": "8b69aca9-9c72-4c8c-dba9-7400ab9603fc",
        "colab": {
          "base_uri": "https://localhost:8080/",
          "height": 323
        }
      },
      "source": [
        "conv = DynamicEdgeConv(3, 128, k=6)\n",
        "x = conv(X, edge_index)"
      ],
      "execution_count": 0,
      "outputs": [
        {
          "output_type": "error",
          "ename": "AttributeError",
          "evalue": "ignored",
          "traceback": [
            "\u001b[0;31m---------------------------------------------------------------------------\u001b[0m",
            "\u001b[0;31mAttributeError\u001b[0m                            Traceback (most recent call last)",
            "\u001b[0;32m<ipython-input-37-bafa18ee1d42>\u001b[0m in \u001b[0;36m<module>\u001b[0;34m()\u001b[0m\n\u001b[1;32m      1\u001b[0m \u001b[0mconv\u001b[0m \u001b[0;34m=\u001b[0m \u001b[0mDynamicEdgeConv\u001b[0m\u001b[0;34m(\u001b[0m\u001b[0;36m3\u001b[0m\u001b[0;34m,\u001b[0m \u001b[0;36m128\u001b[0m\u001b[0;34m,\u001b[0m \u001b[0mk\u001b[0m\u001b[0;34m=\u001b[0m\u001b[0;36m6\u001b[0m\u001b[0;34m)\u001b[0m\u001b[0;34m\u001b[0m\u001b[0;34m\u001b[0m\u001b[0m\n\u001b[0;32m----> 2\u001b[0;31m \u001b[0mx\u001b[0m \u001b[0;34m=\u001b[0m \u001b[0mconv\u001b[0m\u001b[0;34m(\u001b[0m\u001b[0;36m10\u001b[0m\u001b[0;34m,\u001b[0m \u001b[0;36m100\u001b[0m\u001b[0;34m)\u001b[0m\u001b[0;34m\u001b[0m\u001b[0;34m\u001b[0m\u001b[0m\n\u001b[0m",
            "\u001b[0;32m/usr/local/lib/python3.6/dist-packages/torch/nn/modules/module.py\u001b[0m in \u001b[0;36m__call__\u001b[0;34m(self, *input, **kwargs)\u001b[0m\n\u001b[1;32m    530\u001b[0m             \u001b[0mresult\u001b[0m \u001b[0;34m=\u001b[0m \u001b[0mself\u001b[0m\u001b[0;34m.\u001b[0m\u001b[0m_slow_forward\u001b[0m\u001b[0;34m(\u001b[0m\u001b[0;34m*\u001b[0m\u001b[0minput\u001b[0m\u001b[0;34m,\u001b[0m \u001b[0;34m**\u001b[0m\u001b[0mkwargs\u001b[0m\u001b[0;34m)\u001b[0m\u001b[0;34m\u001b[0m\u001b[0;34m\u001b[0m\u001b[0m\n\u001b[1;32m    531\u001b[0m         \u001b[0;32melse\u001b[0m\u001b[0;34m:\u001b[0m\u001b[0;34m\u001b[0m\u001b[0;34m\u001b[0m\u001b[0m\n\u001b[0;32m--> 532\u001b[0;31m             \u001b[0mresult\u001b[0m \u001b[0;34m=\u001b[0m \u001b[0mself\u001b[0m\u001b[0;34m.\u001b[0m\u001b[0mforward\u001b[0m\u001b[0;34m(\u001b[0m\u001b[0;34m*\u001b[0m\u001b[0minput\u001b[0m\u001b[0;34m,\u001b[0m \u001b[0;34m**\u001b[0m\u001b[0mkwargs\u001b[0m\u001b[0;34m)\u001b[0m\u001b[0;34m\u001b[0m\u001b[0;34m\u001b[0m\u001b[0m\n\u001b[0m\u001b[1;32m    533\u001b[0m         \u001b[0;32mfor\u001b[0m \u001b[0mhook\u001b[0m \u001b[0;32min\u001b[0m \u001b[0mself\u001b[0m\u001b[0;34m.\u001b[0m\u001b[0m_forward_hooks\u001b[0m\u001b[0;34m.\u001b[0m\u001b[0mvalues\u001b[0m\u001b[0;34m(\u001b[0m\u001b[0;34m)\u001b[0m\u001b[0;34m:\u001b[0m\u001b[0;34m\u001b[0m\u001b[0;34m\u001b[0m\u001b[0m\n\u001b[1;32m    534\u001b[0m             \u001b[0mhook_result\u001b[0m \u001b[0;34m=\u001b[0m \u001b[0mhook\u001b[0m\u001b[0;34m(\u001b[0m\u001b[0mself\u001b[0m\u001b[0;34m,\u001b[0m \u001b[0minput\u001b[0m\u001b[0;34m,\u001b[0m \u001b[0mresult\u001b[0m\u001b[0;34m)\u001b[0m\u001b[0;34m\u001b[0m\u001b[0;34m\u001b[0m\u001b[0m\n",
            "\u001b[0;32m<ipython-input-36-38a312059e6d>\u001b[0m in \u001b[0;36mforward\u001b[0;34m(self, x, batch)\u001b[0m\n\u001b[1;32m      7\u001b[0m \u001b[0;34m\u001b[0m\u001b[0m\n\u001b[1;32m      8\u001b[0m     \u001b[0;32mdef\u001b[0m \u001b[0mforward\u001b[0m\u001b[0;34m(\u001b[0m\u001b[0mself\u001b[0m\u001b[0;34m,\u001b[0m \u001b[0mx\u001b[0m\u001b[0;34m,\u001b[0m \u001b[0mbatch\u001b[0m\u001b[0;34m=\u001b[0m\u001b[0;32mNone\u001b[0m\u001b[0;34m)\u001b[0m\u001b[0;34m:\u001b[0m\u001b[0;34m\u001b[0m\u001b[0;34m\u001b[0m\u001b[0m\n\u001b[0;32m----> 9\u001b[0;31m         \u001b[0medge_index\u001b[0m \u001b[0;34m=\u001b[0m \u001b[0mknn_graph\u001b[0m\u001b[0;34m(\u001b[0m\u001b[0mx\u001b[0m\u001b[0;34m,\u001b[0m \u001b[0mself\u001b[0m\u001b[0;34m.\u001b[0m\u001b[0mk\u001b[0m\u001b[0;34m,\u001b[0m \u001b[0mbatch\u001b[0m\u001b[0;34m,\u001b[0m \u001b[0mloop\u001b[0m\u001b[0;34m=\u001b[0m\u001b[0;32mFalse\u001b[0m\u001b[0;34m,\u001b[0m \u001b[0mflow\u001b[0m\u001b[0;34m=\u001b[0m\u001b[0mself\u001b[0m\u001b[0;34m.\u001b[0m\u001b[0mflow\u001b[0m\u001b[0;34m)\u001b[0m\u001b[0;34m\u001b[0m\u001b[0;34m\u001b[0m\u001b[0m\n\u001b[0m\u001b[1;32m     10\u001b[0m         \u001b[0;32mreturn\u001b[0m \u001b[0msuper\u001b[0m\u001b[0;34m(\u001b[0m\u001b[0mDynamicEdgeConv\u001b[0m\u001b[0;34m,\u001b[0m \u001b[0mself\u001b[0m\u001b[0;34m)\u001b[0m\u001b[0;34m.\u001b[0m\u001b[0mforward\u001b[0m\u001b[0;34m(\u001b[0m\u001b[0mx\u001b[0m\u001b[0;34m,\u001b[0m \u001b[0medge_index\u001b[0m\u001b[0;34m)\u001b[0m\u001b[0;34m\u001b[0m\u001b[0;34m\u001b[0m\u001b[0m\n",
            "\u001b[0;32m/usr/local/lib/python3.6/dist-packages/torch_cluster/knn.py\u001b[0m in \u001b[0;36mknn_graph\u001b[0;34m(x, k, batch, loop, flow, cosine)\u001b[0m\n\u001b[1;32m    121\u001b[0m \u001b[0;34m\u001b[0m\u001b[0m\n\u001b[1;32m    122\u001b[0m     \u001b[0;32massert\u001b[0m \u001b[0mflow\u001b[0m \u001b[0;32min\u001b[0m \u001b[0;34m[\u001b[0m\u001b[0;34m'source_to_target'\u001b[0m\u001b[0;34m,\u001b[0m \u001b[0;34m'target_to_source'\u001b[0m\u001b[0;34m]\u001b[0m\u001b[0;34m\u001b[0m\u001b[0;34m\u001b[0m\u001b[0m\n\u001b[0;32m--> 123\u001b[0;31m     \u001b[0mrow\u001b[0m\u001b[0;34m,\u001b[0m \u001b[0mcol\u001b[0m \u001b[0;34m=\u001b[0m \u001b[0mknn\u001b[0m\u001b[0;34m(\u001b[0m\u001b[0mx\u001b[0m\u001b[0;34m,\u001b[0m \u001b[0mx\u001b[0m\u001b[0;34m,\u001b[0m \u001b[0mk\u001b[0m \u001b[0;32mif\u001b[0m \u001b[0mloop\u001b[0m \u001b[0;32melse\u001b[0m \u001b[0mk\u001b[0m \u001b[0;34m+\u001b[0m \u001b[0;36m1\u001b[0m\u001b[0;34m,\u001b[0m \u001b[0mbatch\u001b[0m\u001b[0;34m,\u001b[0m \u001b[0mbatch\u001b[0m\u001b[0;34m,\u001b[0m \u001b[0mcosine\u001b[0m\u001b[0;34m=\u001b[0m\u001b[0mcosine\u001b[0m\u001b[0;34m)\u001b[0m\u001b[0;34m\u001b[0m\u001b[0;34m\u001b[0m\u001b[0m\n\u001b[0m\u001b[1;32m    124\u001b[0m     \u001b[0mrow\u001b[0m\u001b[0;34m,\u001b[0m \u001b[0mcol\u001b[0m \u001b[0;34m=\u001b[0m \u001b[0;34m(\u001b[0m\u001b[0mcol\u001b[0m\u001b[0;34m,\u001b[0m \u001b[0mrow\u001b[0m\u001b[0;34m)\u001b[0m \u001b[0;32mif\u001b[0m \u001b[0mflow\u001b[0m \u001b[0;34m==\u001b[0m \u001b[0;34m'source_to_target'\u001b[0m \u001b[0;32melse\u001b[0m \u001b[0;34m(\u001b[0m\u001b[0mrow\u001b[0m\u001b[0;34m,\u001b[0m \u001b[0mcol\u001b[0m\u001b[0;34m)\u001b[0m\u001b[0;34m\u001b[0m\u001b[0;34m\u001b[0m\u001b[0m\n\u001b[1;32m    125\u001b[0m     \u001b[0;32mif\u001b[0m \u001b[0;32mnot\u001b[0m \u001b[0mloop\u001b[0m\u001b[0;34m:\u001b[0m\u001b[0;34m\u001b[0m\u001b[0;34m\u001b[0m\u001b[0m\n",
            "\u001b[0;32m/usr/local/lib/python3.6/dist-packages/torch_cluster/knn.py\u001b[0m in \u001b[0;36mknn\u001b[0;34m(x, y, k, batch_x, batch_y, cosine)\u001b[0m\n\u001b[1;32m     48\u001b[0m         \u001b[0mbatch_y\u001b[0m \u001b[0;34m=\u001b[0m \u001b[0my\u001b[0m\u001b[0;34m.\u001b[0m\u001b[0mnew_zeros\u001b[0m\u001b[0;34m(\u001b[0m\u001b[0my\u001b[0m\u001b[0;34m.\u001b[0m\u001b[0msize\u001b[0m\u001b[0;34m(\u001b[0m\u001b[0;36m0\u001b[0m\u001b[0;34m)\u001b[0m\u001b[0;34m,\u001b[0m \u001b[0mdtype\u001b[0m\u001b[0;34m=\u001b[0m\u001b[0mtorch\u001b[0m\u001b[0;34m.\u001b[0m\u001b[0mlong\u001b[0m\u001b[0;34m)\u001b[0m\u001b[0;34m\u001b[0m\u001b[0;34m\u001b[0m\u001b[0m\n\u001b[1;32m     49\u001b[0m \u001b[0;34m\u001b[0m\u001b[0m\n\u001b[0;32m---> 50\u001b[0;31m     \u001b[0mx\u001b[0m \u001b[0;34m=\u001b[0m \u001b[0mx\u001b[0m\u001b[0;34m.\u001b[0m\u001b[0mview\u001b[0m\u001b[0;34m(\u001b[0m\u001b[0;34m-\u001b[0m\u001b[0;36m1\u001b[0m\u001b[0;34m,\u001b[0m \u001b[0;36m1\u001b[0m\u001b[0;34m)\u001b[0m \u001b[0;32mif\u001b[0m \u001b[0mx\u001b[0m\u001b[0;34m.\u001b[0m\u001b[0mdim\u001b[0m\u001b[0;34m(\u001b[0m\u001b[0;34m)\u001b[0m \u001b[0;34m==\u001b[0m \u001b[0;36m1\u001b[0m \u001b[0;32melse\u001b[0m \u001b[0mx\u001b[0m\u001b[0;34m\u001b[0m\u001b[0;34m\u001b[0m\u001b[0m\n\u001b[0m\u001b[1;32m     51\u001b[0m     \u001b[0my\u001b[0m \u001b[0;34m=\u001b[0m \u001b[0my\u001b[0m\u001b[0;34m.\u001b[0m\u001b[0mview\u001b[0m\u001b[0;34m(\u001b[0m\u001b[0;34m-\u001b[0m\u001b[0;36m1\u001b[0m\u001b[0;34m,\u001b[0m \u001b[0;36m1\u001b[0m\u001b[0;34m)\u001b[0m \u001b[0;32mif\u001b[0m \u001b[0my\u001b[0m\u001b[0;34m.\u001b[0m\u001b[0mdim\u001b[0m\u001b[0;34m(\u001b[0m\u001b[0;34m)\u001b[0m \u001b[0;34m==\u001b[0m \u001b[0;36m1\u001b[0m \u001b[0;32melse\u001b[0m \u001b[0my\u001b[0m\u001b[0;34m\u001b[0m\u001b[0;34m\u001b[0m\u001b[0m\n\u001b[1;32m     52\u001b[0m \u001b[0;34m\u001b[0m\u001b[0m\n",
            "\u001b[0;31mAttributeError\u001b[0m: 'int' object has no attribute 'dim'"
          ]
        }
      ]
    }
  ]
}